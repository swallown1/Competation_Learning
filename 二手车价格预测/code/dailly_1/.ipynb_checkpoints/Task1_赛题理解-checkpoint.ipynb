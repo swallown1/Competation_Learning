{
 "cells": [
  {
   "cell_type": "markdown",
   "metadata": {},
   "source": [
    "# Datawhale 零基础入门数据挖掘-Task1 赛题理解¶"
   ]
  },
  {
   "cell_type": "markdown",
   "metadata": {},
   "source": [
    "## 赛题：零基础入门数据挖掘 - 二手车交易价格预测\n",
    "**地址:** https://tianchi.aliyun.com/competition/entrance/231784/information"
   ]
  },
  {
   "cell_type": "markdown",
   "metadata": {},
   "source": [
    "### 1.赛题的简介\n",
    "\n",
    "赛题以预测二手车的交易价格为任务，数据集报名后可见并可下载，该数据来自某交易平台的二手车交易记录，总数据量超过40w，包含31列变量信息，其中15列为匿名变量。为了保证比赛的公平性，将会从中抽取15万条作为训练集，5万条作为测试集A，5万条作为测试集B，同时会对name、model、brand和regionCode等信息进行脱敏。\n",
    "\n",
    "通过这道赛题来引导大家走进 AI 数据竞赛的世界，主要针对于于竞赛新人进行自我练 习、自我提高。\n"
   ]
  },
  {
   "cell_type": "markdown",
   "metadata": {},
   "source": [
    "### 2.数据简介\n",
    "\n",
    "---\n",
    "\n",
    "一般而言，对于数据在比赛界面都有对应的数据概况介绍（匿名特征除外），说明列的性质特征。了解列的性质会有助于我们对于数据的理解和后续分析。 Tip:匿名特征，就是未告知数据列所属的性质的特征列。\n",
    "\n",
    "---\n",
    "\n",
    "train.csv\n",
    "\n",
    "- SaleID - 销售样本ID\n",
    "- name - 汽车编码\n",
    "- regDate - 汽车注册时间\n",
    "- model - 车型编码\n",
    "- brand - 品牌\n",
    "- bodyType - 车身类型\n",
    "- fuelType - 燃油类型\n",
    "- gearbox - 变速箱\n",
    "- power - 汽车功率\n",
    "- kilometer - 汽车行驶公里\n",
    "- notRepairedDamage - 汽车有尚未修复的损坏\n",
    "- regionCode - 看车地区编码\n",
    "- seller - 销售方\n",
    "- offerType - 报价类型\n",
    "- creatDate - 广告发布时间\n",
    "- price - 汽车价格\n",
    "- v_0', 'v_1', 'v_2', 'v_3', 'v_4', 'v_5', 'v_6', 'v_7', 'v_8', 'v_9', 'v_10', 'v_11', 'v_12', 'v_13','v_14' 【匿名特征，包含v0-14在内15个匿名特征】 　\n",
    "数字全都脱敏处理，都为label encoding形式，即数字形式"
   ]
  },
  {
   "cell_type": "markdown",
   "metadata": {},
   "source": [
    "### 3.题目的指标\n",
    "\n",
    "**本赛题的评价标准为MAE(Mean Absolute Error):**\n",
    "$$MAE=\\frac{\\sum_{i=1}^{n}\\left|y_{i}-\\hat{y}_{i}\\right|}{n}$$\n",
    " \n",
    "其中 $y_i$代表第 i个样本的真实值，其中$\\hat y_i$ 代表第 i个样本的预测值。"
   ]
  },
  {
   "cell_type": "markdown",
   "metadata": {},
   "source": [
    "---\n",
    "**一般问题评价指标说明:**\n",
    "\n",
    "什么是评估指标：\n",
    "\n",
    ">评估指标即是我们对于一个模型效果的数值型量化。（有点类似与对于一个商品评价打分，而这是针对于模型效果和理想效果之间的一个打分）\n",
    "\n",
    "一般来说分类和回归问题的评价指标有如下一些形式：\n",
    "\n",
    "分类算法常见的评估指标如下：\n",
    "对于二类分类器/分类算法，评价指标主要有accuracy， [Precision，Recall，F-score，Pr曲线]，ROC-AUC曲线。\n",
    "对于多类分类器/分类算法，评价指标主要有accuracy， [宏平均和微平均，F-score]。\n",
    "对于回归预测类常见的评估指标如下:\n",
    "平均绝对误差（Mean Absolute Error，MAE），均方误差（Mean Squared Error，MSE），平均绝对百分误差（Mean Absolute Percentage Error，MAPE），均方根误差（Root Mean Squared Error）， R2（R-Square）\n",
    "\n",
    "**平均绝对误差 平均绝对误差（Mean Absolute Error，MAE）**:平均绝对误差，其能更好地反映预测值与真实值误差的实际情况，其计算公式如下：\n",
    "$$\n",
    "MAE=\\frac{1}{N} \\sum_{i=1}^{N}\\left|y_{i}-\\hat{y}_{i}\\right|\n",
    "$$\n",
    "\n",
    "**均方误差均方误差（Mean Squared Error，MSE）** ,均方误差,其计算公式为：\n",
    "$$\n",
    "MAE=\\frac{1}{N} \\sum_{i=1}^{N}(y_{i}-\\hat{y}_{i})^2\n",
    "$$\n",
    "\n",
    "**R2（R-Square）**的公式为：\n",
    "\n",
    "残差平方和：\n",
    "$$SS_res = \\sum (y_i - \\hat y_i)^2$$\n",
    "\n",
    "\n",
    "总平均值：\n",
    "$$SS_tot = \\sum (y_i - \\overline y_i)^2$$\n",
    "\n",
    "其中$\\overline y$ 表示 y 的平均值 得到R2 表达式为：\n",
    "$$\n",
    "R^{2}=1-\\frac{SS_{res}}{SS_{tot}}=1-\\frac{\\sum\\left(y_{i}-\\hat{y}_{i}\\right)^{2}}{\\sum\\left(y_{i}-\\overline{y}\\right)^{2}}\n",
    "$$\n",
    "\n",
    "R2用于度量因变量的变异中可由自变量解释部分所占的比例，取值范围是 0~1， R2 越接近1,表明回归平方和占总平方和的比例越大,回归线与各观测点越接近，用x的变化来解释y值变化的部分就越多,回归的拟合程度就越好。所以 R2 也称为拟合优度（Goodness of Fit）的统计量。\n",
    "\n",
    "其中$y_i$表示真实值，$\\hat y_i$表示预测值 $\\overline y_i$表示样本均值。R2得分越高拟合效果越好"
   ]
  },
  {
   "cell_type": "code",
   "execution_count": null,
   "metadata": {},
   "outputs": [],
   "source": []
  },
  {
   "cell_type": "code",
   "execution_count": null,
   "metadata": {},
   "outputs": [],
   "source": []
  },
  {
   "cell_type": "code",
   "execution_count": null,
   "metadata": {},
   "outputs": [],
   "source": []
  },
  {
   "cell_type": "code",
   "execution_count": null,
   "metadata": {},
   "outputs": [],
   "source": []
  },
  {
   "cell_type": "code",
   "execution_count": null,
   "metadata": {},
   "outputs": [],
   "source": []
  },
  {
   "cell_type": "code",
   "execution_count": null,
   "metadata": {},
   "outputs": [],
   "source": []
  },
  {
   "cell_type": "code",
   "execution_count": null,
   "metadata": {},
   "outputs": [],
   "source": []
  }
 ],
 "metadata": {
  "kernelspec": {
   "display_name": "Python 3",
   "language": "python",
   "name": "python3"
  },
  "language_info": {
   "codemirror_mode": {
    "name": "ipython",
    "version": 3
   },
   "file_extension": ".py",
   "mimetype": "text/x-python",
   "name": "python",
   "nbconvert_exporter": "python",
   "pygments_lexer": "ipython3",
   "version": "3.7.1"
  }
 },
 "nbformat": 4,
 "nbformat_minor": 2
}
