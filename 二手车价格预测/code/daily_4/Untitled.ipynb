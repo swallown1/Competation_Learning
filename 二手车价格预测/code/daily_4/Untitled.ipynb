{
 "cells": [
  {
   "cell_type": "markdown",
   "metadata": {},
   "source": [
    "# Task4 建模调参"
   ]
  },
  {
   "cell_type": "markdown",
   "metadata": {},
   "source": [
    "### 读取数据"
   ]
  },
  {
   "cell_type": "code",
   "execution_count": 1,
   "metadata": {},
   "outputs": [],
   "source": [
    "import pandas as pd\n",
    "import numpy as np\n",
    "import warnings\n",
    "warnings.filterwarnings('ignore')"
   ]
  },
  {
   "cell_type": "markdown",
   "metadata": {},
   "source": [
    "reduce_mem_usage 函数通过调整数据类型，帮助我们减少数据在内存中占用的空间"
   ]
  },
  {
   "cell_type": "code",
   "execution_count": 2,
   "metadata": {},
   "outputs": [],
   "source": [
    "def reduce_mem_usage(df):\n",
    "    \"\"\" iterate through all the columns of a dataframe and modify the data type\n",
    "        to reduce memory usage.        \n",
    "    \"\"\"\n",
    "    start_mem = df.memory_usage().sum() \n",
    "    print('Memory usage of dataframe is {:.2f} MB'.format(start_mem))\n",
    "    \n",
    "    for col in df.columns:\n",
    "        col_type = df[col].dtype\n",
    "        \n",
    "        if col_type != object:\n",
    "            c_min = df[col].min()\n",
    "            c_max = df[col].max()\n",
    "            if str(col_type)[:3] == 'int':\n",
    "                if c_min > np.iinfo(np.int8).min and c_max < np.iinfo(np.int8).max:\n",
    "                    df[col] = df[col].astype(np.int8)\n",
    "                elif c_min > np.iinfo(np.int16).min and c_max < np.iinfo(np.int16).max:\n",
    "                    df[col] = df[col].astype(np.int16)\n",
    "                elif c_min > np.iinfo(np.int32).min and c_max < np.iinfo(np.int32).max:\n",
    "                    df[col] = df[col].astype(np.int32)\n",
    "                elif c_min > np.iinfo(np.int64).min and c_max < np.iinfo(np.int64).max:\n",
    "                    df[col] = df[col].astype(np.int64)  \n",
    "            else:\n",
    "                if c_min > np.finfo(np.float16).min and c_max < np.finfo(np.float16).max:\n",
    "                    df[col] = df[col].astype(np.float16)\n",
    "                elif c_min > np.finfo(np.float32).min and c_max < np.finfo(np.float32).max:\n",
    "                    df[col] = df[col].astype(np.float32)\n",
    "                else:\n",
    "                    df[col] = df[col].astype(np.float64)\n",
    "        else:\n",
    "            df[col] = df[col].astype('category')\n",
    "\n",
    "    end_mem = df.memory_usage().sum() \n",
    "    print('Memory usage after optimization is: {:.2f} MB'.format(end_mem))\n",
    "    print('Decreased by {:.1f}%'.format(100 * (start_mem - end_mem) / start_mem))\n",
    "    return df"
   ]
  },
  {
   "cell_type": "code",
   "execution_count": 3,
   "metadata": {},
   "outputs": [
    {
     "name": "stdout",
     "output_type": "stream",
     "text": [
      "Memory usage of dataframe is 62099672.00 MB\n",
      "Memory usage after optimization is: 16520303.00 MB\n",
      "Decreased by 73.4%\n"
     ]
    }
   ],
   "source": [
    "sample_feature = reduce_mem_usage(pd.read_csv('../data/data_for_tree.csv'))"
   ]
  },
  {
   "cell_type": "code",
   "execution_count": 4,
   "metadata": {},
   "outputs": [],
   "source": [
    "continuous_feature_names = [i for i in sample_feature.columns if i not in ['price','brand','model','brand']]"
   ]
  },
  {
   "cell_type": "markdown",
   "metadata": {},
   "source": [
    "## 1. 线性回归模型："
   ]
  },
  {
   "cell_type": "code",
   "execution_count": 5,
   "metadata": {},
   "outputs": [
    {
     "name": "stdout",
     "output_type": "stream",
     "text": [
      "SaleID\n",
      "2047      1\n",
      "72246     1\n",
      "25113     1\n",
      "31258     1\n",
      "147997    1\n",
      "         ..\n",
      "99418     1\n",
      "113757    1\n",
      "107614    1\n",
      "149081    1\n",
      "0         1\n",
      "Name: SaleID, Length: 91729, dtype: int64\n",
      "bodyType\n",
      "0.0    26296\n",
      "1.0    21383\n",
      "2.0    19684\n",
      "3.0     8912\n",
      "4.0     6140\n",
      "5.0     4440\n",
      "6.0     4203\n",
      "7.0      671\n",
      "Name: bodyType, dtype: int64\n",
      "brand\n",
      "0     19585\n",
      "4     10317\n",
      "14     9435\n",
      "1      8805\n",
      "10     8515\n",
      "6      6083\n",
      "9      4153\n",
      "5      2905\n",
      "13     2223\n",
      "11     1935\n",
      "3      1693\n",
      "7      1462\n",
      "27     1395\n",
      "25     1316\n",
      "8      1262\n",
      "16     1213\n",
      "15     1030\n",
      "21     1013\n",
      "19      900\n",
      "20      712\n",
      "22      701\n",
      "12      699\n",
      "30      619\n",
      "17      584\n",
      "28      420\n",
      "26      390\n",
      "32      350\n",
      "24      264\n",
      "29      253\n",
      "37      234\n",
      "2       220\n",
      "18      203\n",
      "31      170\n",
      "36      146\n",
      "33      134\n",
      "34      134\n",
      "23      110\n",
      "35      101\n",
      "38       41\n",
      "39        4\n",
      "Name: brand, dtype: int64\n",
      "fuelType\n",
      "0.0    58570\n",
      "1.0    31515\n",
      "2.0     1335\n",
      "3.0      189\n",
      "4.0       86\n",
      "6.0       17\n",
      "5.0       17\n",
      "Name: fuelType, dtype: int64\n",
      "gearbox\n",
      "0.0    71628\n",
      "1.0    20101\n",
      "Name: gearbox, dtype: int64\n",
      "kilometer\n",
      "15.0    57467\n",
      "12.5     9967\n",
      "10.0     4183\n",
      "9.0      3399\n",
      "8.0      3040\n",
      "7.0      2796\n",
      "6.0      2565\n",
      "5.0      2155\n",
      "4.0      1854\n",
      "3.0      1632\n",
      "2.0      1548\n",
      "0.5       607\n",
      "1.0       516\n",
      "Name: kilometer, dtype: int64\n",
      "model\n",
      "0.0      7463\n",
      "19.0     5831\n",
      "4.0      5360\n",
      "29.0     3147\n",
      "40.0     2916\n",
      "         ... \n",
      "209.0       1\n",
      "145.0       1\n",
      "242.0       1\n",
      "240.0       1\n",
      "244.0       1\n",
      "Name: model, Length: 247, dtype: int64\n",
      "name\n",
      "387       209\n",
      "708       198\n",
      "203       175\n",
      "713       174\n",
      "55        158\n",
      "         ... \n",
      "75009       1\n",
      "54527       1\n",
      "56574       1\n",
      "14204       1\n",
      "133119      1\n",
      "Name: name, Length: 60466, dtype: int64\n",
      "notRepairedDamage\n",
      "0.0    74234\n",
      "0       9374\n",
      "1.0     8121\n",
      "Name: notRepairedDamage, dtype: int64\n",
      "offerType\n",
      "0    91729\n",
      "Name: offerType, dtype: int64\n",
      "power\n",
      "75     6248\n",
      "150    4420\n",
      "140    4266\n",
      "60     4033\n",
      "101    3708\n",
      "       ... \n",
      "26        1\n",
      "248       1\n",
      "261       1\n",
      "29        1\n",
      "293       1\n",
      "Name: power, Length: 284, dtype: int64\n",
      "price\n",
      "500.0      1236\n",
      "1500.0     1218\n",
      "1200.0     1097\n",
      "2500.0     1053\n",
      "3500.0      982\n",
      "           ... \n",
      "13240.0       1\n",
      "4360.0        1\n",
      "19875.0       1\n",
      "36300.0       1\n",
      "40950.0       1\n",
      "Name: price, Length: 3043, dtype: int64\n",
      "seller\n",
      "0    91729\n",
      "Name: seller, dtype: int64\n",
      "train\n",
      "1    91729\n",
      "Name: train, dtype: int64\n",
      "v_0\n",
      "45.40625    636\n",
      "45.06250    624\n",
      "44.46875    612\n",
      "44.93750    611\n",
      "44.78125    610\n",
      "           ... \n",
      "37.43750      1\n",
      "38.31250      1\n",
      "38.65625      1\n",
      "51.31250      1\n",
      "37.84375      1\n",
      "Name: v_0, Length: 407, dtype: int64\n",
      "v_1\n",
      "-3.191406    439\n",
      "-3.232422    408\n",
      "-3.226562    402\n",
      "-3.216797    402\n",
      "-3.201172    399\n",
      "            ... \n",
      " 1.089844      1\n",
      "-1.086914      1\n",
      " 0.278076      1\n",
      " 0.549805      1\n",
      "-0.117798      1\n",
      "Name: v_1, Length: 3327, dtype: int64\n",
      "v_10\n",
      "-4.390625    65\n",
      "-4.082031    64\n",
      " 2.722656    64\n",
      "-4.156250    64\n",
      "-4.308594    62\n",
      "             ..\n",
      " 0.645508     1\n",
      "-0.241333     1\n",
      " 0.205688     1\n",
      " 4.804688     1\n",
      " 0.854980     1\n",
      "Name: v_10, Length: 6740, dtype: int64\n",
      "v_11\n",
      "-2.255859    54\n",
      "-2.605469    47\n",
      "-2.617188    46\n",
      "-2.503906    46\n",
      "-2.572266    45\n",
      "             ..\n",
      " 0.186768     1\n",
      " 0.454590     1\n",
      "-0.134155     1\n",
      "-0.697266     1\n",
      " 3.404297     1\n",
      "Name: v_11, Length: 12113, dtype: int64\n",
      "v_12\n",
      " 2.287109    37\n",
      "-2.052734    36\n",
      "-2.064453    36\n",
      "-2.035156    36\n",
      " 2.078125    35\n",
      "             ..\n",
      "-0.490234     1\n",
      "-0.223633     1\n",
      "-0.081299     1\n",
      "-0.099182     1\n",
      "-0.031250     1\n",
      "Name: v_12, Length: 13354, dtype: int64\n",
      "v_13\n",
      "-1.115234    51\n",
      "-1.125977    50\n",
      "-1.150391    49\n",
      "-1.127930    48\n",
      "-1.146484    48\n",
      "             ..\n",
      " 0.046875     1\n",
      "-0.093750     1\n",
      "-3.500000     1\n",
      " 3.695312     1\n",
      "-0.114319     1\n",
      "Name: v_13, Length: 13181, dtype: int64\n",
      "v_14\n",
      " 1.007812    44\n",
      " 1.042969    40\n",
      " 1.022461    40\n",
      " 1.192383    39\n",
      " 1.092773    38\n",
      "             ..\n",
      " 0.028076     1\n",
      "-0.055176     1\n",
      "-0.080872     1\n",
      " 0.117798     1\n",
      "-0.002098     1\n",
      "Name: v_14, Length: 15059, dtype: int64\n",
      "v_2\n",
      "-1.036133    43\n",
      "-1.032227    42\n",
      "-1.178711    40\n",
      "-1.179688    40\n",
      "-1.031250    39\n",
      "             ..\n",
      " 2.003906     1\n",
      " 0.014229     1\n",
      " 0.042511     1\n",
      "-0.028137     1\n",
      "-0.012978     1\n",
      "Name: v_2, Length: 13811, dtype: int64\n",
      "v_3\n",
      "-2.072266    41\n",
      "-2.029297    39\n",
      "-2.140625    39\n",
      "-2.033203    36\n",
      " 2.001953    36\n",
      "             ..\n",
      " 0.044464     1\n",
      " 0.242676     1\n",
      " 0.095276     1\n",
      "-0.280273     1\n",
      " 0.457275     1\n",
      "Name: v_3, Length: 13230, dtype: int64\n",
      "v_4\n",
      "-1.102539    42\n",
      "-1.276367    40\n",
      " 1.013672    40\n",
      "-1.119141    40\n",
      "-1.045898    40\n",
      "             ..\n",
      " 0.021332     1\n",
      "-0.002937     1\n",
      " 0.022568     1\n",
      " 0.042389     1\n",
      "-0.043884     1\n",
      "Name: v_4, Length: 13316, dtype: int64\n",
      "v_5\n",
      "0.264404    922\n",
      "0.262695    903\n",
      "0.264160    899\n",
      "0.261719    884\n",
      "0.261475    883\n",
      "           ... \n",
      "0.214722      1\n",
      "0.211060      1\n",
      "0.214478      1\n",
      "0.204468      1\n",
      "0.210449      1\n",
      "Name: v_5, Length: 500, dtype: int64\n",
      "v_6\n",
      "0.000000    17351\n",
      "0.108093      166\n",
      "0.108032      131\n",
      "0.108215      126\n",
      "0.114197      124\n",
      "            ...  \n",
      "0.000108        1\n",
      "0.000036        1\n",
      "0.029449        1\n",
      "0.001340        1\n",
      "0.000116        1\n",
      "Name: v_6, Length: 6763, dtype: int64\n",
      "v_7\n",
      "0.000000    3575\n",
      "0.127808     115\n",
      "0.129272     113\n",
      "0.127441     110\n",
      "0.127075     107\n",
      "            ... \n",
      "0.007412       1\n",
      "0.005318       1\n",
      "0.003929       1\n",
      "0.006672       1\n",
      "0.026016       1\n",
      "Name: v_7, Length: 5694, dtype: int64\n",
      "v_8\n",
      "0.000000    653\n",
      "0.067383     89\n",
      "0.066528     88\n",
      "0.063843     84\n",
      "0.063416     83\n",
      "           ... \n",
      "0.003551      1\n",
      "0.003670      1\n",
      "0.010796      1\n",
      "0.004227      1\n",
      "0.013092      1\n",
      "Name: v_8, Length: 5023, dtype: int64\n",
      "v_9\n",
      "0.000000    1043\n",
      "0.082397      76\n",
      "0.073669      75\n",
      "0.076660      75\n",
      "0.083923      74\n",
      "            ... \n",
      "0.005184       1\n",
      "0.000357       1\n",
      "0.001550       1\n",
      "0.168335       1\n",
      "0.001198       1\n",
      "Name: v_9, Length: 5682, dtype: int64\n",
      "used_time\n",
      "4376.0    126\n",
      "5504.0    125\n",
      "4752.0    124\n",
      "4768.0    122\n",
      "6240.0    120\n",
      "         ... \n",
      "225.0       1\n",
      "219.0       1\n",
      "426.0       1\n",
      "185.0       1\n",
      "405.0       1\n",
      "Name: used_time, Length: 4077, dtype: int64\n",
      "city\n",
      "1.0    25684\n",
      "2.0    21343\n",
      "3.0    16641\n",
      "4.0    12228\n",
      "5.0     8194\n",
      "6.0     5087\n",
      "7.0     2466\n",
      "8.0       86\n",
      "Name: city, dtype: int64\n",
      "brand_amount\n",
      "31424.0    19585\n",
      "16576.0    10317\n",
      "16072.0     9435\n",
      "13656.0     8805\n",
      "13992.0     8515\n",
      "10192.0     6083\n",
      "7300.0      4153\n",
      "4664.0      2905\n",
      "3812.0      2223\n",
      "2944.0      1935\n",
      "2460.0      1693\n",
      "2360.0      1462\n",
      "2048.0      1395\n",
      "2060.0      1316\n",
      "2070.0      1262\n",
      "2220.0      1213\n",
      "1458.0      1030\n",
      "1546.0      1013\n",
      "1386.0       900\n",
      "1235.0       712\n",
      "1085.0       701\n",
      "1108.0       699\n",
      "940.0        619\n",
      "913.0        584\n",
      "633.0        420\n",
      "878.0        390\n",
      "318.0        390\n",
      "588.0        350\n",
      "630.0        264\n",
      "406.0        253\n",
      "331.0        234\n",
      "315.0        203\n",
      "228.0        146\n",
      "201.0        134\n",
      "227.0        134\n",
      "183.0        110\n",
      "180.0        101\n",
      "65.0          41\n",
      "9.0            4\n",
      "Name: brand_amount, dtype: int64\n",
      "brand_price_average\n",
      "5528.0     19585\n",
      "8344.0     10317\n",
      "3054.0      9435\n",
      "9080.0      8805\n",
      "8076.0      8515\n",
      "3576.0      6083\n",
      "2440.0      4153\n",
      "3306.0      2905\n",
      "2800.0      2223\n",
      "4548.0      1935\n",
      "6480.0      1693\n",
      "4196.0      1462\n",
      "5300.0      1395\n",
      "3648.0      1316\n",
      "4836.0      1262\n",
      "3638.0      1213\n",
      "9848.0      1030\n",
      "5724.0      1013\n",
      "5212.0       900\n",
      "3474.0       712\n",
      "6024.0       701\n",
      "4052.0       699\n",
      "4188.0       619\n",
      "3642.0       584\n",
      "5320.0       420\n",
      "8240.0       390\n",
      "4006.0       350\n",
      "32368.0      264\n",
      "6040.0       253\n",
      "16184.0      234\n",
      "11808.0      220\n",
      "4808.0       203\n",
      "1756.0       170\n",
      "3564.0       146\n",
      "1016.5       134\n",
      "9104.0       134\n",
      "3246.0       110\n",
      "1646.0       101\n",
      "3266.0        41\n",
      "3948.0         4\n",
      "Name: brand_price_average, dtype: int64\n",
      "brand_price_max\n",
      "68500.0    19585\n",
      "99999.0    12233\n",
      "38990.0     9435\n",
      "84000.0     8805\n",
      "92900.0     8515\n",
      "35990.0     6083\n",
      "68530.0     4153\n",
      "31500.0     2905\n",
      "35000.0     2223\n",
      "34500.0     1935\n",
      "37500.0     1693\n",
      "38900.0     1462\n",
      "62900.0     1395\n",
      "22500.0     1316\n",
      "17900.0     1213\n",
      "45000.0     1030\n",
      "35999.0     1013\n",
      "42350.0      900\n",
      "55800.0      804\n",
      "37800.0      712\n",
      "43900.0      701\n",
      "27490.0      699\n",
      "23200.0      619\n",
      "39900.0      420\n",
      "33500.0      350\n",
      "19990.0      253\n",
      "86500.0      234\n",
      "34599.0      203\n",
      "11000.0      170\n",
      "20900.0      146\n",
      "2900.0       134\n",
      "65000.0      134\n",
      "64000.0      110\n",
      "28900.0      101\n",
      "8999.0        41\n",
      "14500.0        4\n",
      "Name: brand_price_max, dtype: int64\n",
      "brand_price_median\n",
      "3200.0     19585\n",
      "6000.0     10317\n",
      "1700.0      9435\n",
      "6400.0      8805\n",
      "5200.0      8515\n",
      "1800.0      6083\n",
      "1400.0      4153\n",
      "2300.0      2905\n",
      "1600.0      2223\n",
      "2900.0      1935\n",
      "4992.0      1693\n",
      "2600.0      1462\n",
      "4200.0      1395\n",
      "2500.0      1316\n",
      "2270.0      1262\n",
      "3000.0      1213\n",
      "8496.0      1030\n",
      "4224.0      1013\n",
      "2800.0       900\n",
      "1750.0       712\n",
      "3950.0       701\n",
      "2624.0       699\n",
      "3296.0       619\n",
      "2200.0       584\n",
      "3790.0       420\n",
      "5000.0       390\n",
      "2350.0       350\n",
      "27456.0      264\n",
      "5248.0       253\n",
      "13248.0      234\n",
      "7500.0       220\n",
      "1999.0       203\n",
      "1000.0       170\n",
      "2250.0       146\n",
      "5600.0       134\n",
      "999.0        134\n",
      "1200.0       110\n",
      "950.0        101\n",
      "2850.0        41\n",
      "1900.0         4\n",
      "Name: brand_price_median, dtype: int64\n",
      "brand_price_min\n"
     ]
    },
    {
     "name": "stdout",
     "output_type": "stream",
     "text": [
      "13.0     25668\n",
      "12.0     19752\n",
      "15.0     18880\n",
      "50.0      8009\n",
      "20.0      7241\n",
      "30.0      3197\n",
      "65.0      1693\n",
      "35.0      1615\n",
      "60.0      1596\n",
      "25.0      1316\n",
      "100.0     1030\n",
      "80.0       420\n",
      "11.0       390\n",
      "500.0      253\n",
      "550.0      234\n",
      "99.0       151\n",
      "150.0      146\n",
      "980.0      134\n",
      "750.0        4\n",
      "Name: brand_price_min, dtype: int64\n",
      "brand_price_std\n",
      "6260.0     19585\n",
      "8088.0     10317\n",
      "3606.0      9435\n",
      "8992.0      8805\n",
      "8248.0      8515\n",
      "4564.0      6083\n",
      "2976.0      4153\n",
      "3344.0      2905\n",
      "3074.0      2223\n",
      "4724.0      1935\n",
      "5396.0      1693\n",
      "4752.0      1462\n",
      "4852.0      1395\n",
      "3556.0      1316\n",
      "6052.0      1262\n",
      "2450.0      1213\n",
      "5424.0      1030\n",
      "5256.0      1013\n",
      "6188.0       900\n",
      "4400.0       712\n",
      "5876.0       701\n",
      "4066.0       699\n",
      "3660.0       619\n",
      "3952.0       584\n",
      "4508.0       420\n",
      "10280.0      390\n",
      "4396.0       350\n",
      "19856.0      264\n",
      "3640.0       253\n",
      "13544.0      234\n",
      "10576.0      220\n",
      "6360.0       203\n",
      "1829.0       170\n",
      "3922.0       146\n",
      "554.0        134\n",
      "9640.0       134\n",
      "7332.0       110\n",
      "3326.0       101\n",
      "2140.0        41\n",
      "5520.0         4\n",
      "Name: brand_price_std, dtype: int64\n",
      "brand_price_sum\n",
      "173719696.0    19585\n",
      "138279072.0    10317\n",
      "49076652.0      9435\n",
      "124044600.0     8805\n",
      "113034208.0     8515\n",
      "36457520.0      6083\n",
      "17805272.0      4153\n",
      "15414322.0      2905\n",
      "10675790.0      2223\n",
      "13398006.0      1935\n",
      "15954226.0      1693\n",
      "9905909.0       1462\n",
      "10862559.0      1395\n",
      "7515546.0       1316\n",
      "10017173.0      1262\n",
      "8078352.0       1213\n",
      "14373814.0      1030\n",
      "8856481.0       1013\n",
      "7228288.0        900\n",
      "4292737.0        712\n",
      "6543426.0        701\n",
      "4494303.0        699\n",
      "3939145.0        619\n",
      "3328679.0        584\n",
      "3373957.0        420\n",
      "7242792.0        390\n",
      "2360095.0        350\n",
      "20422776.0       264\n",
      "2459028.0        253\n",
      "5371844.0        234\n",
      "3766241.0        220\n",
      "1519049.0        203\n",
      "560155.0         170\n",
      "816001.0         146\n",
      "231776.0         134\n",
      "1839801.0        134\n",
      "597132.0         110\n",
      "297977.0         101\n",
      "215620.0          41\n",
      "39480.0            4\n",
      "Name: brand_price_sum, dtype: int64\n",
      "power_bin\n",
      "10.0    12513\n",
      "7.0      8687\n",
      "13.0     8466\n",
      "14.0     7314\n",
      "5.0      7256\n",
      "11.0     6623\n",
      "8.0      6006\n",
      "16.0     5726\n",
      "12.0     4798\n",
      "6.0      3776\n",
      "17.0     2897\n",
      "19.0     2414\n",
      "9.0      2163\n",
      "4.0      2057\n",
      "18.0     1710\n",
      "23.0     1659\n",
      "15.0     1544\n",
      "21.0     1483\n",
      "20.0     1057\n",
      "22.0      968\n",
      "24.0      753\n",
      "27.0      518\n",
      "25.0      307\n",
      "28.0      289\n",
      "26.0      271\n",
      "29.0      265\n",
      "3.0       128\n",
      "0.0        48\n",
      "1.0        23\n",
      "2.0        10\n",
      "Name: power_bin, dtype: int64\n"
     ]
    }
   ],
   "source": [
    "#处理缺失值以及nan\n",
    "sample_feature = sample_feature.dropna().replace('-',0).reset_index(drop=True)\n",
    "\n",
    "for i in sample_feature.columns:\n",
    "    print(i)\n",
    "    print(sample_feature[i].value_counts())"
   ]
  },
  {
   "cell_type": "code",
   "execution_count": 6,
   "metadata": {},
   "outputs": [],
   "source": [
    "sample_feature['notRepairedDamage'] = sample_feature['notRepairedDamage'].astype(np.float32)"
   ]
  },
  {
   "cell_type": "code",
   "execution_count": 7,
   "metadata": {},
   "outputs": [],
   "source": [
    "# 用线性模型 所以只使用一些连续值\n",
    "train = sample_feature[continuous_feature_names+['price']]\n",
    "\n",
    "train_X = train[continuous_feature_names]\n",
    "train_y = train['price']"
   ]
  },
  {
   "cell_type": "markdown",
   "metadata": {},
   "source": [
    "### 建立模型"
   ]
  },
  {
   "cell_type": "code",
   "execution_count": 8,
   "metadata": {},
   "outputs": [],
   "source": [
    "# 使用sklearn中的LinearRegression\n",
    "from sklearn.linear_model import LinearRegression\n",
    "\n",
    "model = LinearRegression(normalize=True)\n",
    "\n",
    "model = model.fit(train_X,train_y)"
   ]
  },
  {
   "cell_type": "markdown",
   "metadata": {},
   "source": [
    "看训练的线性回归模型的截距（intercept）与权重(coef)"
   ]
  },
  {
   "cell_type": "code",
   "execution_count": 9,
   "metadata": {},
   "outputs": [
    {
     "data": {
      "text/plain": [
       "[('v_6', 3367064.3416419136),\n",
       " ('v_8', 700675.5609398606),\n",
       " ('v_9', 170630.2772321968),\n",
       " ('v_7', 32322.661932017396),\n",
       " ('v_12', 20473.670796954273),\n",
       " ('v_3', 17868.07954149409),\n",
       " ('v_11', 11474.938996679144),\n",
       " ('v_13', 11261.764560014137),\n",
       " ('v_10', 2683.920090624845),\n",
       " ('gearbox', 881.8225039247221),\n",
       " ('fuelType', 363.9042507216947),\n",
       " ('bodyType', 189.6027101207212),\n",
       " ('city', 44.94975120522734),\n",
       " ('power', 28.55390161675623),\n",
       " ('brand_price_median', 0.5103728134078394),\n",
       " ('brand_price_std', 0.4503634709263183),\n",
       " ('brand_amount', 0.14881120395066025),\n",
       " ('brand_price_max', 0.003191018670312208),\n",
       " ('SaleID', 5.3559899198622266e-05),\n",
       " ('seller', 6.635207682847977e-06),\n",
       " ('train', 3.999797627329826e-06),\n",
       " ('offerType', 3.6582350730895996e-06),\n",
       " ('brand_price_sum', -2.1750068681876487e-05),\n",
       " ('name', -0.000298001271304757),\n",
       " ('used_time', -0.0025158943328486105),\n",
       " ('brand_price_average', -0.4049048451010817),\n",
       " ('brand_price_min', -2.246775348688867),\n",
       " ('power_bin', -34.42064411728736),\n",
       " ('v_14', -274.7841180775257),\n",
       " ('kilometer', -372.8975266607475),\n",
       " ('notRepairedDamage', -495.19038446278967),\n",
       " ('v_0', -2045.0549573537867),\n",
       " ('v_5', -11022.986240597987),\n",
       " ('v_4', -15121.731109856006),\n",
       " ('v_2', -26098.29992051123),\n",
       " ('v_1', -45556.18929723833)]"
      ]
     },
     "execution_count": 9,
     "metadata": {},
     "output_type": "execute_result"
    }
   ],
   "source": [
    "sorted(dict(zip(continuous_feature_names, model.coef_)).items(), key=lambda x:x[1], reverse=True)"
   ]
  },
  {
   "cell_type": "code",
   "execution_count": 11,
   "metadata": {},
   "outputs": [],
   "source": [
    "from matplotlib import pyplot as plt\n",
    "\n",
    "def plt_sactter(X,y,fea,tilte = 'The predicted price is obvious different from true price'):\n",
    "    \n",
    "    subsample_index = np.random.randint(low=0,high=len(train_y),size=50)\n",
    "    \n",
    "    plt.scatter(X[fea][subsample_index], y[subsample_index], color='black')\n",
    "    plt.scatter(X[fea][subsample_index], model.predict(X.loc[subsample_index]), color='blue')\n",
    "    plt.xlabel(fea)\n",
    "    plt.ylabel('price')\n",
    "    plt.legend(['True Price','Predicted Price'],loc='upper right')\n",
    "    print(tilte)\n",
    "    plt.show()"
   ]
  },
  {
   "cell_type": "code",
   "execution_count": 12,
   "metadata": {},
   "outputs": [
    {
     "name": "stdout",
     "output_type": "stream",
     "text": [
      "The predicted price is obvious different from true price\n"
     ]
    },
    {
     "data": {
      "image/png": "[encoded data removed]",
      "text/plain": [
       "<Figure size 432x288 with 1 Axes>"
      ]
     },
     "metadata": {
      "needs_background": "light"
     },
     "output_type": "display_data"
    }
   ],
   "source": [
    "plt_sactter(train_X,train_y,'v_9')"
   ]
  },
  {
   "cell_type": "code",
   "execution_count": 13,
   "metadata": {},
   "outputs": [
    {
     "name": "stdout",
     "output_type": "stream",
     "text": [
      "The predicted price is obvious different from true price\n"
     ]
    },
    {
     "data": {
      "image/png": "[encoded data removed]",
      "text/plain": [
       "<Figure size 432x288 with 1 Axes>"
      ]
     },
     "metadata": {
      "needs_background": "light"
     },
     "output_type": "display_data"
    }
   ],
   "source": [
    "plt_sactter(train_X,train_y,'kilometer')"
   ]
  },
  {
   "cell_type": "code",
   "execution_count": 14,
   "metadata": {
    "scrolled": true
   },
   "outputs": [
    {
     "name": "stdout",
     "output_type": "stream",
     "text": [
      "The predicted price is obvious different from true price\n"
     ]
    },
    {
     "data": {
      "image/png": "[encoded data removed]",
      "text/plain": [
       "<Figure size 432x288 with 1 Axes>"
      ]
     },
     "metadata": {
      "needs_background": "light"
     },
     "output_type": "display_data"
    }
   ],
   "source": [
    "plt_sactter(train_X,train_y,'power')"
   ]
  },
  {
   "cell_type": "markdown",
   "metadata": {},
   "source": [
    "绘制特征v_9的值与标签的散点图，图片发现模型的预测结果（蓝色点）与真实标签（黑色点）的分布差异较大，且部分预测值出现了小于0的情况，说明我们的模型存在一些问题"
   ]
  },
  {
   "cell_type": "code",
   "execution_count": 39,
   "metadata": {},
   "outputs": [
    {
     "data": {
      "text/plain": [
       "<matplotlib.axes._subplots.AxesSubplot at 0x231ec1e9848>"
      ]
     },
     "execution_count": 39,
     "metadata": {},
     "output_type": "execute_result"
    },
    {
     "data": {
      "image/png": "[encoded data removed]",
      "text/plain": [
       "<Figure size 1080x360 with 2 Axes>"
      ]
     },
     "metadata": {
      "needs_background": "light"
     },
     "output_type": "display_data"
    }
   ],
   "source": [
    "## 看看 y 的分布，看看其分布情况\n",
    "import seaborn as sns\n",
    "plt.figure(figsize=(15,5))\n",
    "plt.subplot(1,2,1)\n",
    "sns.distplot(train_y)\n",
    "plt.subplot(1,2,2)\n",
    "sns.distplot(train_y[train_y < np.quantile(train_y,0.9)])\n"
   ]
  },
  {
   "cell_type": "markdown",
   "metadata": {},
   "source": [
    "通过作图我们发现数据的标签（price）呈现长尾分布，不利于我们的建模预测。原因是很多模型都假设数据误差项符合正态分布，而长尾分布的数据违背了这一假设。参考博客：https://blog.csdn.net/Noob_daniel/article/details/76087829\n",
    "\n",
    "在这里我们对标签进行了 $log(x+1)$ 变换，使标签贴近于正态分布"
   ]
  },
  {
   "cell_type": "code",
   "execution_count": 15,
   "metadata": {},
   "outputs": [],
   "source": [
    "train_y_ln = np.log(train_y + 1)"
   ]
  },
  {
   "cell_type": "code",
   "execution_count": 16,
   "metadata": {},
   "outputs": [
    {
     "name": "stdout",
     "output_type": "stream",
     "text": [
      "The transformed price seems like normal distribution\n"
     ]
    },
    {
     "data": {
      "text/plain": [
       "<matplotlib.axes._subplots.AxesSubplot at 0x217c5fcac88>"
      ]
     },
     "execution_count": 16,
     "metadata": {},
     "output_type": "execute_result"
    },
    {
     "data": {
      "image/png": "[encoded data removed]",
      "text/plain": [
       "<Figure size 1080x360 with 2 Axes>"
      ]
     },
     "metadata": {
      "needs_background": "light"
     },
     "output_type": "display_data"
    }
   ],
   "source": [
    "import seaborn as sns\n",
    "print('The transformed price seems like normal distribution')\n",
    "plt.figure(figsize=(15,5))\n",
    "plt.subplot(1,2,1)\n",
    "sns.distplot(train_y_ln)\n",
    "plt.subplot(1,2,2)\n",
    "sns.distplot(train_y_ln[train_y_ln < np.quantile(train_y_ln, 0.9)])"
   ]
  },
  {
   "cell_type": "code",
   "execution_count": 24,
   "metadata": {},
   "outputs": [
    {
     "name": "stdout",
     "output_type": "stream",
     "text": [
      "intercept:-110670.68277629596\n"
     ]
    },
    {
     "data": {
      "text/plain": [
       "[('v_6', 3367064.3416419136),\n",
       " ('v_8', 700675.5609398606),\n",
       " ('v_9', 170630.2772321968),\n",
       " ('v_7', 32322.661932017396),\n",
       " ('v_12', 20473.670796954273),\n",
       " ('v_3', 17868.07954149409),\n",
       " ('v_11', 11474.938996679144),\n",
       " ('v_13', 11261.764560014137),\n",
       " ('v_10', 2683.920090624845),\n",
       " ('gearbox', 881.8225039247221),\n",
       " ('fuelType', 363.9042507216947),\n",
       " ('bodyType', 189.6027101207212),\n",
       " ('city', 44.94975120522734),\n",
       " ('power', 28.55390161675623),\n",
       " ('brand_price_median', 0.5103728134078394),\n",
       " ('brand_price_std', 0.4503634709263183),\n",
       " ('brand_amount', 0.14881120395066025),\n",
       " ('brand_price_max', 0.003191018670312208),\n",
       " ('SaleID', 5.3559899198622266e-05),\n",
       " ('seller', 6.635207682847977e-06),\n",
       " ('train', 3.999797627329826e-06),\n",
       " ('offerType', 3.6582350730895996e-06),\n",
       " ('brand_price_sum', -2.1750068681876487e-05),\n",
       " ('name', -0.000298001271304757),\n",
       " ('used_time', -0.0025158943328486105),\n",
       " ('brand_price_average', -0.4049048451010817),\n",
       " ('brand_price_min', -2.246775348688867),\n",
       " ('power_bin', -34.42064411728736),\n",
       " ('v_14', -274.7841180775257),\n",
       " ('kilometer', -372.8975266607475),\n",
       " ('notRepairedDamage', -495.19038446278967),\n",
       " ('v_0', -2045.0549573537867),\n",
       " ('v_5', -11022.986240597987),\n",
       " ('v_4', -15121.731109856006),\n",
       " ('v_2', -26098.29992051123),\n",
       " ('v_1', -45556.18929723833)]"
      ]
     },
     "execution_count": 24,
     "metadata": {},
     "output_type": "execute_result"
    }
   ],
   "source": [
    "model = model.fit(train_X,train_y)\n",
    "\n",
    "print('intercept:'+ str(model.intercept_))\n",
    "sorted(dict(zip(continuous_feature_names, model.coef_)).items(), key=lambda x:x[1], reverse=True)"
   ]
  },
  {
   "cell_type": "code",
   "execution_count": 18,
   "metadata": {},
   "outputs": [
    {
     "name": "stdout",
     "output_type": "stream",
     "text": [
      "The predicted price seems normal after np.log transforming\n"
     ]
    },
    {
     "data": {
      "image/png": "[encoded data removed]",
      "text/plain": [
       "<Figure size 432x288 with 1 Axes>"
      ]
     },
     "metadata": {
      "needs_background": "light"
     },
     "output_type": "display_data"
    }
   ],
   "source": [
    "plt_sactter(train_X,train_y,'v_9','The predicted price seems normal after np.log transforming')"
   ]
  },
  {
   "cell_type": "markdown",
   "metadata": {},
   "source": [
    "### 效果比取对数之前要好很多"
   ]
  },
  {
   "cell_type": "markdown",
   "metadata": {},
   "source": [
    "## 五折交叉验证\n",
    "\n",
    ">在使用训练集对参数进行训练的时候，经常会发现人们通常会将一整个训练集分为三个部分（比如mnist手写训练集）。一般分为：训练集（train_set），评估集（valid_set），测试集（test_set）这三个部分。这其实是为了保证训练效果而特意设置的。其中测试集很好理解，其实就是完全不参与训练的数据，仅仅用来观测测试效果的数据。而训练集和评估集则牵涉到下面的知识了。\n",
    "\n",
    ">因为在实际的训练中，训练的结果对于训练集的拟合程度通常还是挺好的（初始条件敏感），但是对于训练集之外的数据的拟合程度通常就不那么令人满意了。因此我们通常并不会把所有的数据集都拿来训练，而是分出一部分来（这一部分不参加训练）对训练集生成的参数进行测试，相对客观的判断这些参数对训练集之外的数据的符合程度。这种思想就称为交叉验证（Cross Validation"
   ]
  },
  {
   "cell_type": "code",
   "execution_count": 25,
   "metadata": {},
   "outputs": [
    {
     "name": "stderr",
     "output_type": "stream",
     "text": [
      "[Parallel(n_jobs=1)]: Using backend SequentialBackend with 1 concurrent workers.\n",
      "[Parallel(n_jobs=1)]: Done   5 out of   5 | elapsed:    0.5s finished\n"
     ]
    },
    {
     "data": {
      "text/plain": [
       "array([1.34830381, 1.36349009, 1.38071245, 1.37840115, 1.35810453])"
      ]
     },
     "execution_count": 25,
     "metadata": {},
     "output_type": "execute_result"
    }
   ],
   "source": [
    "from sklearn.model_selection import cross_val_score\n",
    "from sklearn.metrics import mean_absolute_error,  make_scorer\n",
    "\n",
    "def log_transfer(func):\n",
    "    def wrapper(y, yhat):\n",
    "        result = func(np.log(y), np.nan_to_num(np.log(yhat)))\n",
    "        return result\n",
    "    return wrapper\n",
    "\n",
    "# 将测试集合分成5分，分别进行交叉验证\n",
    "scores = cross_val_score(model, X=train_X, y=train_y, verbose=1, cv = 5, \n",
    "                         scoring=make_scorer(log_transfer(mean_absolute_error)))\n",
    "scores"
   ]
  },
  {
   "cell_type": "code",
   "execution_count": 26,
   "metadata": {
    "scrolled": true
   },
   "outputs": [
    {
     "data": {
      "text/plain": [
       "1.3658024042407964"
      ]
     },
     "execution_count": 26,
     "metadata": {},
     "output_type": "execute_result"
    }
   ],
   "source": [
    "np.mean(scores)"
   ]
  },
  {
   "cell_type": "code",
   "execution_count": 37,
   "metadata": {},
   "outputs": [
    {
     "name": "stderr",
     "output_type": "stream",
     "text": [
      "[Parallel(n_jobs=1)]: Using backend SequentialBackend with 1 concurrent workers.\n",
      "[Parallel(n_jobs=1)]: Done   5 out of   5 | elapsed:    0.5s finished\n"
     ]
    }
   ],
   "source": [
    "# 对进行对数处理过的标签进行5折交叉验证\n",
    "scores_log = cross_val_score(model,X=train_X,y=train_y_ln,verbose=1,cv=5,\n",
    "                             scoring=make_scorer(mean_absolute_error))"
   ]
  },
  {
   "cell_type": "code",
   "execution_count": 28,
   "metadata": {},
   "outputs": [
    {
     "data": {
      "text/plain": [
       "0.19325301535176861"
      ]
     },
     "execution_count": 28,
     "metadata": {},
     "output_type": "execute_result"
    }
   ],
   "source": [
    "np.mean(scores_log)"
   ]
  },
  {
   "cell_type": "code",
   "execution_count": 38,
   "metadata": {},
   "outputs": [
    {
     "data": {
      "text/html": [
       "<div>\n",
       "<style scoped>\n",
       "    .dataframe tbody tr th:only-of-type {\n",
       "        vertical-align: middle;\n",
       "    }\n",
       "\n",
       "    .dataframe tbody tr th {\n",
       "        vertical-align: top;\n",
       "    }\n",
       "\n",
       "    .dataframe thead th {\n",
       "        text-align: right;\n",
       "    }\n",
       "</style>\n",
       "<table border=\"1\" class=\"dataframe\">\n",
       "  <thead>\n",
       "    <tr style=\"text-align: right;\">\n",
       "      <th></th>\n",
       "      <th>cv1</th>\n",
       "      <th>cv2</th>\n",
       "      <th>cv3</th>\n",
       "      <th>cv4</th>\n",
       "      <th>cv5</th>\n",
       "    </tr>\n",
       "  </thead>\n",
       "  <tbody>\n",
       "    <tr>\n",
       "      <th>MAE</th>\n",
       "      <td>0.190792</td>\n",
       "      <td>0.193758</td>\n",
       "      <td>0.194132</td>\n",
       "      <td>0.191825</td>\n",
       "      <td>0.195758</td>\n",
       "    </tr>\n",
       "  </tbody>\n",
       "</table>\n",
       "</div>"
      ],
      "text/plain": [
       "          cv1       cv2       cv3       cv4       cv5\n",
       "MAE  0.190792  0.193758  0.194132  0.191825  0.195758"
      ]
     },
     "execution_count": 38,
     "metadata": {},
     "output_type": "execute_result"
    }
   ],
   "source": [
    "scores_log = pd.DataFrame(scores_log.reshape(1,-1))\n",
    "scores_log.columns = ['cv'+str(x) for x in range(1,6)]\n",
    "scores_log.index = [\"MAE\"]\n",
    "scores_log"
   ]
  },
  {
   "cell_type": "markdown",
   "metadata": {},
   "source": [
    "但在事实上，由于我们并不具有预知未来的能力，五折交叉验证在某些与时间相关的数据集上反而反映了不真实的情况。通过2018年的二手车价格预测2017年的二手车价格，这显然是不合理的，因此我们还可以采用时间顺序对数据集进行分隔。在本例中，我们选用靠前时间的4/5样本当作训练集，靠后时间的1/5当作验证集，最终结果与五折交叉验证差距不大"
   ]
  },
  {
   "cell_type": "code",
   "execution_count": 40,
   "metadata": {},
   "outputs": [],
   "source": [
    "import datetime\n",
    "\n",
    "sample_feature = sample_feature.reset_index(drop=True)\n",
    "# 分割点\n",
    "split_point = len(sample_feature) // 5 *4"
   ]
  },
  {
   "cell_type": "code",
   "execution_count": 42,
   "metadata": {},
   "outputs": [],
   "source": [
    "train = sample_feature.loc[:split_point].dropna()\n",
    "val = sample_feature.loc[split_point:].dropna()\n",
    "\n",
    "# 取连续特征\n",
    "train_X = train[continuous_feature_names]\n",
    "train_y_ln = np.log(train['price']+1)\n",
    "\n",
    "val_X = val[continuous_feature_names]\n",
    "val_y_ln = np.log(val['price']+1)"
   ]
  },
  {
   "cell_type": "code",
   "execution_count": 50,
   "metadata": {},
   "outputs": [],
   "source": [
    "model = model.fit(train_X,train_y_ln)"
   ]
  },
  {
   "cell_type": "code",
   "execution_count": 51,
   "metadata": {},
   "outputs": [
    {
     "data": {
      "text/plain": [
       "0.19577667040507402"
      ]
     },
     "execution_count": 51,
     "metadata": {},
     "output_type": "execute_result"
    }
   ],
   "source": [
    "mean_absolute_error(val_y_ln,model.predict(val_X))"
   ]
  },
  {
   "cell_type": "markdown",
   "metadata": {},
   "source": [
    "### 绘制学习曲率线和验证曲线"
   ]
  },
  {
   "cell_type": "code",
   "execution_count": 53,
   "metadata": {},
   "outputs": [],
   "source": [
    "# 导入sklearn中的 learning_curve , validation_curve\n",
    "from sklearn.model_selection import learning_curve,validation_curve\n",
    "\n",
    "? learning_curve"
   ]
  },
  {
   "cell_type": "code",
   "execution_count": 57,
   "metadata": {},
   "outputs": [],
   "source": [
    "# 绘制学习曲线\n",
    "def plot_learn_curve(estimator,title,X,y,ylim=None,cv=None,n_jobs=1,\n",
    "                     train_size = np.linspace(.1,1.0,5)):\n",
    "    plt.figure()\n",
    "    plt.title(title)\n",
    "    plt.xlabel('Training example')  \n",
    "    plt.ylabel('score')  \n",
    "    if ylim is not None:  \n",
    "        plt.ylim(*ylim)  \n",
    "    train_sizes, train_scores, test_scores = learning_curve(\n",
    "        estimator, X, y, cv=cv, n_jobs=n_jobs, train_sizes=train_size, \n",
    "        scoring = make_scorer(mean_absolute_error))  \n",
    "    \n",
    "    train_scores_mean = np.mean(train_scores, axis=1)  \n",
    "    train_scores_std = np.std(train_scores, axis=1)  \n",
    "    test_scores_mean = np.mean(test_scores, axis=1)  \n",
    "    test_scores_std = np.std(test_scores, axis=1)  \n",
    "    \n",
    "    plt.grid()#区域  \n",
    "    plt.fill_between(train_sizes, train_scores_mean - train_scores_std,  \n",
    "                     train_scores_mean + train_scores_std, alpha=0.1,  \n",
    "                     color=\"r\")  \n",
    "    plt.fill_between(train_sizes, test_scores_mean - test_scores_std,  \n",
    "                     test_scores_mean + test_scores_std, alpha=0.1,  \n",
    "                     color=\"g\")  \n",
    "    \n",
    "    plt.plot(train_sizes, train_scores_mean, 'o-', color='r',  \n",
    "             label=\"Training score\")  \n",
    "    plt.plot(train_sizes, test_scores_mean,'o-',color=\"g\",  \n",
    "             label=\"Cross-validation score\")  \n",
    "    plt.legend(loc=\"best\")  \n",
    "    return plt  "
   ]
  },
  {
   "cell_type": "code",
   "execution_count": 58,
   "metadata": {},
   "outputs": [
    {
     "data": {
      "text/plain": [
       "<module 'matplotlib.pyplot' from 'G:\\\\Anaconda\\\\lib\\\\site-packages\\\\matplotlib\\\\pyplot.py'>"
      ]
     },
     "execution_count": 58,
     "metadata": {},
     "output_type": "execute_result"
    },
    {
     "data": {
      "image/png": "[encoded data removed]",
      "text/plain": [
       "<Figure size 432x288 with 1 Axes>"
      ]
     },
     "metadata": {
      "needs_background": "light"
     },
     "output_type": "display_data"
    }
   ],
   "source": [
    "plot_learn_curve(LinearRegression(), 'Liner_model', \n",
    "                    train_X[:1000], train_y_ln[:1000], ylim=(0.0, 0.5), cv=5, n_jobs=1)  "
   ]
  },
  {
   "cell_type": "markdown",
   "metadata": {},
   "source": [
    "### 多种模型对比"
   ]
  },
  {
   "cell_type": "code",
   "execution_count": 59,
   "metadata": {},
   "outputs": [],
   "source": [
    "train = sample_feature[continuous_feature_names + ['price']].dropna()\n",
    "\n",
    "train_X = train[continuous_feature_names]\n",
    "train_y = train['price']\n",
    "train_y_ln = np.log(train_y + 1)"
   ]
  },
  {
   "cell_type": "markdown",
   "metadata": {},
   "source": [
    "**线性模型 & 嵌入式特征选择**\n",
    "\n",
    "嵌入式选择特征是在学习器训练的过程中进行特征选择的，其分类有L1和L2正则化。\n",
    "\n",
    "在对线性回归模型加入两种正则化方法后，他们分别变成了岭回归与Lasso回归。"
   ]
  },
  {
   "cell_type": "code",
   "execution_count": 61,
   "metadata": {},
   "outputs": [],
   "source": [
    "from sklearn.linear_model import LinearRegression\n",
    "from sklearn.linear_model import Ridge\n",
    "from sklearn.linear_model import Lasso\n",
    "\n",
    "models = [LinearRegression(),\n",
    "        Ridge(),\n",
    "        Lasso()]"
   ]
  },
  {
   "cell_type": "code",
   "execution_count": 64,
   "metadata": {},
   "outputs": [
    {
     "name": "stdout",
     "output_type": "stream",
     "text": [
      "LinearRegression is finished\n",
      "Ridge is finished\n",
      "Lasso is finished\n"
     ]
    }
   ],
   "source": [
    "result = dict()\n",
    "\n",
    "for m in models:\n",
    "    m_name = str(m).split('(')[0]\n",
    "    score = cross_val_score(m,X=train_X,y=train_y_ln,verbose=0,cv = 5,\n",
    "                           scoring=make_scorer(mean_absolute_error))\n",
    "    result[m_name] = score\n",
    "    print(m_name + ' is finished')\n"
   ]
  },
  {
   "cell_type": "code",
   "execution_count": 73,
   "metadata": {},
   "outputs": [
    {
     "data": {
      "text/html": [
       "<div>\n",
       "<style scoped>\n",
       "    .dataframe tbody tr th:only-of-type {\n",
       "        vertical-align: middle;\n",
       "    }\n",
       "\n",
       "    .dataframe tbody tr th {\n",
       "        vertical-align: top;\n",
       "    }\n",
       "\n",
       "    .dataframe thead th {\n",
       "        text-align: right;\n",
       "    }\n",
       "</style>\n",
       "<table border=\"1\" class=\"dataframe\">\n",
       "  <thead>\n",
       "    <tr style=\"text-align: right;\">\n",
       "      <th></th>\n",
       "      <th>LinearRegression</th>\n",
       "      <th>Ridge</th>\n",
       "      <th>Lasso</th>\n",
       "    </tr>\n",
       "  </thead>\n",
       "  <tbody>\n",
       "    <tr>\n",
       "      <th>cv1</th>\n",
       "      <td>0.190792</td>\n",
       "      <td>0.194832</td>\n",
       "      <td>0.383899</td>\n",
       "    </tr>\n",
       "    <tr>\n",
       "      <th>cv2</th>\n",
       "      <td>0.193758</td>\n",
       "      <td>0.197632</td>\n",
       "      <td>0.381894</td>\n",
       "    </tr>\n",
       "    <tr>\n",
       "      <th>cv3</th>\n",
       "      <td>0.194132</td>\n",
       "      <td>0.198123</td>\n",
       "      <td>0.384090</td>\n",
       "    </tr>\n",
       "    <tr>\n",
       "      <th>cv4</th>\n",
       "      <td>0.191825</td>\n",
       "      <td>0.195670</td>\n",
       "      <td>0.380526</td>\n",
       "    </tr>\n",
       "    <tr>\n",
       "      <th>cv5</th>\n",
       "      <td>0.195758</td>\n",
       "      <td>0.199676</td>\n",
       "      <td>0.383611</td>\n",
       "    </tr>\n",
       "  </tbody>\n",
       "</table>\n",
       "</div>"
      ],
      "text/plain": [
       "     LinearRegression     Ridge     Lasso\n",
       "cv1          0.190792  0.194832  0.383899\n",
       "cv2          0.193758  0.197632  0.381894\n",
       "cv3          0.194132  0.198123  0.384090\n",
       "cv4          0.191825  0.195670  0.380526\n",
       "cv5          0.195758  0.199676  0.383611"
      ]
     },
     "execution_count": 73,
     "metadata": {},
     "output_type": "execute_result"
    }
   ],
   "source": [
    "    \n",
    "#三种方法效果对比\n",
    "result = pd.DataFrame(result)\n",
    "result.index = ['cv'+str(x) for x in range(1,6)]\n",
    "result"
   ]
  },
  {
   "cell_type": "code",
   "execution_count": 74,
   "metadata": {},
   "outputs": [
    {
     "name": "stdout",
     "output_type": "stream",
     "text": [
      "intercept:18.750068110905204\n"
     ]
    },
    {
     "data": {
      "text/plain": [
       "<matplotlib.axes._subplots.AxesSubplot at 0x217bce30fc8>"
      ]
     },
     "execution_count": 74,
     "metadata": {},
     "output_type": "execute_result"
    },
    {
     "data": {
      "image/png": "[encoded data removed]",
      "text/plain": [
       "<Figure size 432x288 with 1 Axes>"
      ]
     },
     "metadata": {
      "needs_background": "light"
     },
     "output_type": "display_data"
    }
   ],
   "source": [
    "model = LinearRegression().fit(train_X, train_y_ln)\n",
    "print('intercept:'+ str(model.intercept_))\n",
    "sns.barplot(abs(model.coef_), continuous_feature_names)"
   ]
  },
  {
   "cell_type": "markdown",
   "metadata": {},
   "source": [
    "L2正则化在拟合过程中通常都倾向于让权值尽可能小，最后构造一个所有参数都比较小的模型。因为一般认为参数值小的模型比较简单，能适应不同的数据集，也在一定程度上避免了过拟合现象。可以设想一下对于一个线性回归方程，若参数很大，那么只要数据偏移一点点，就会对结果造成很大的影响；但如果参数足够小，数据偏移得多一点也不会对结果造成什么影响，专业一点的说法是『抗扰动能力强』"
   ]
  },
  {
   "cell_type": "code",
   "execution_count": 75,
   "metadata": {},
   "outputs": [
    {
     "name": "stdout",
     "output_type": "stream",
     "text": [
      "intercept:4.671710856982987\n"
     ]
    },
    {
     "data": {
      "text/plain": [
       "<matplotlib.axes._subplots.AxesSubplot at 0x217bcee9508>"
      ]
     },
     "execution_count": 75,
     "metadata": {},
     "output_type": "execute_result"
    },
    {
     "data": {
      "image/png": "[encoded data removed]",
      "text/plain": [
       "<Figure size 432x288 with 1 Axes>"
      ]
     },
     "metadata": {
      "needs_background": "light"
     },
     "output_type": "display_data"
    }
   ],
   "source": [
    "model = Ridge().fit(train_X, train_y_ln)\n",
    "print('intercept:'+ str(model.intercept_))\n",
    "sns.barplot(abs(model.coef_), continuous_feature_names)"
   ]
  },
  {
   "cell_type": "markdown",
   "metadata": {},
   "source": [
    "L1正则化有助于生成一个稀疏权值矩阵，进而可以用于特征选择。如下图，我们发现power与userd_time特征非常重要。"
   ]
  },
  {
   "cell_type": "code",
   "execution_count": 76,
   "metadata": {},
   "outputs": [
    {
     "name": "stdout",
     "output_type": "stream",
     "text": [
      "intercept:8.67218475447497\n"
     ]
    },
    {
     "data": {
      "text/plain": [
       "<matplotlib.axes._subplots.AxesSubplot at 0x217bceadac8>"
      ]
     },
     "execution_count": 76,
     "metadata": {},
     "output_type": "execute_result"
    },
    {
     "data": {
      "image/png": "[encoded data removed]",
      "text/plain": [
       "<Figure size 432x288 with 1 Axes>"
      ]
     },
     "metadata": {
      "needs_background": "light"
     },
     "output_type": "display_data"
    }
   ],
   "source": [
    "model = Lasso().fit(train_X, train_y_ln)\n",
    "print('intercept:'+ str(model.intercept_))\n",
    "sns.barplot(abs(model.coef_), continuous_feature_names)"
   ]
  },
  {
   "cell_type": "markdown",
   "metadata": {},
   "source": [
    "除此之外，决策树通过信息熵或GINI指数选择分裂节点时，优先选择的分裂特征也更加重要，\n",
    "这同样是一种特征选择的方法。\n",
    "XGBoost与LightGBM模型中的model_importance指标正是基于此计算的"
   ]
  },
  {
   "cell_type": "markdown",
   "metadata": {},
   "source": [
    "#### 非线性模型\n",
    "除了线性模型以外，还有许多我们常用的非线性模型如下，在此篇幅有限不再一一讲解原理。我们选择了部分常用模型与线性模型进行效果比对。"
   ]
  },
  {
   "cell_type": "code",
   "execution_count": 78,
   "metadata": {},
   "outputs": [],
   "source": [
    "from sklearn.linear_model import LinearRegression\n",
    "from sklearn.svm import SVC\n",
    "from sklearn.tree import DecisionTreeRegressor\n",
    "from sklearn.ensemble import RandomForestRegressor\n",
    "from sklearn.ensemble import GradientBoostingRegressor\n",
    "from sklearn.neural_network import MLPRegressor\n",
    "from xgboost.sklearn import XGBRegressor\n",
    "from lightgbm.sklearn import LGBMRegressor\n"
   ]
  },
  {
   "cell_type": "code",
   "execution_count": 79,
   "metadata": {},
   "outputs": [],
   "source": [
    "models = [LinearRegression(),\n",
    "          DecisionTreeRegressor(),\n",
    "          RandomForestRegressor(),\n",
    "          GradientBoostingRegressor(),\n",
    "          MLPRegressor(solver='lbfgs', max_iter=100), \n",
    "          XGBRegressor(n_estimators = 100, objective='reg:squarederror'), \n",
    "          LGBMRegressor(n_estimators = 100)]"
   ]
  },
  {
   "cell_type": "code",
   "execution_count": 80,
   "metadata": {},
   "outputs": [
    {
     "name": "stdout",
     "output_type": "stream",
     "text": [
      "LinearRegression is finished\n",
      "DecisionTreeRegressor is finished\n",
      "RandomForestRegressor is finished\n",
      "GradientBoostingRegressor is finished\n",
      "MLPRegressor is finished\n",
      "XGBRegressor is finished\n",
      "LGBMRegressor is finished\n"
     ]
    }
   ],
   "source": [
    "result = dict()\n",
    "for model in models:\n",
    "    model_name = str(model).split('(')[0]\n",
    "    scores = cross_val_score(model, X=train_X, y=train_y_ln, verbose=0, cv = 5, scoring=make_scorer(mean_absolute_error))\n",
    "    result[model_name] = scores\n",
    "    print(model_name + ' is finished')"
   ]
  },
  {
   "cell_type": "code",
   "execution_count": 81,
   "metadata": {},
   "outputs": [
    {
     "data": {
      "text/html": [
       "<div>\n",
       "<style scoped>\n",
       "    .dataframe tbody tr th:only-of-type {\n",
       "        vertical-align: middle;\n",
       "    }\n",
       "\n",
       "    .dataframe tbody tr th {\n",
       "        vertical-align: top;\n",
       "    }\n",
       "\n",
       "    .dataframe thead th {\n",
       "        text-align: right;\n",
       "    }\n",
       "</style>\n",
       "<table border=\"1\" class=\"dataframe\">\n",
       "  <thead>\n",
       "    <tr style=\"text-align: right;\">\n",
       "      <th></th>\n",
       "      <th>LinearRegression</th>\n",
       "      <th>DecisionTreeRegressor</th>\n",
       "      <th>RandomForestRegressor</th>\n",
       "      <th>GradientBoostingRegressor</th>\n",
       "      <th>MLPRegressor</th>\n",
       "      <th>XGBRegressor</th>\n",
       "      <th>LGBMRegressor</th>\n",
       "    </tr>\n",
       "  </thead>\n",
       "  <tbody>\n",
       "    <tr>\n",
       "      <th>cv1</th>\n",
       "      <td>0.190792</td>\n",
       "      <td>0.197285</td>\n",
       "      <td>0.133003</td>\n",
       "      <td>0.168897</td>\n",
       "      <td>547.072868</td>\n",
       "      <td>0.169990</td>\n",
       "      <td>0.141545</td>\n",
       "    </tr>\n",
       "    <tr>\n",
       "      <th>cv2</th>\n",
       "      <td>0.193758</td>\n",
       "      <td>0.192859</td>\n",
       "      <td>0.134289</td>\n",
       "      <td>0.171831</td>\n",
       "      <td>301.672924</td>\n",
       "      <td>0.171826</td>\n",
       "      <td>0.145501</td>\n",
       "    </tr>\n",
       "    <tr>\n",
       "      <th>cv3</th>\n",
       "      <td>0.194132</td>\n",
       "      <td>0.189598</td>\n",
       "      <td>0.133489</td>\n",
       "      <td>0.170921</td>\n",
       "      <td>387.930132</td>\n",
       "      <td>0.172115</td>\n",
       "      <td>0.143887</td>\n",
       "    </tr>\n",
       "    <tr>\n",
       "      <th>cv4</th>\n",
       "      <td>0.191825</td>\n",
       "      <td>0.190200</td>\n",
       "      <td>0.132817</td>\n",
       "      <td>0.169083</td>\n",
       "      <td>611.987152</td>\n",
       "      <td>0.169635</td>\n",
       "      <td>0.142497</td>\n",
       "    </tr>\n",
       "    <tr>\n",
       "      <th>cv5</th>\n",
       "      <td>0.195758</td>\n",
       "      <td>0.202709</td>\n",
       "      <td>0.137070</td>\n",
       "      <td>0.174072</td>\n",
       "      <td>272.175556</td>\n",
       "      <td>0.172824</td>\n",
       "      <td>0.144852</td>\n",
       "    </tr>\n",
       "  </tbody>\n",
       "</table>\n",
       "</div>"
      ],
      "text/plain": [
       "     LinearRegression  DecisionTreeRegressor  RandomForestRegressor  \\\n",
       "cv1          0.190792               0.197285               0.133003   \n",
       "cv2          0.193758               0.192859               0.134289   \n",
       "cv3          0.194132               0.189598               0.133489   \n",
       "cv4          0.191825               0.190200               0.132817   \n",
       "cv5          0.195758               0.202709               0.137070   \n",
       "\n",
       "     GradientBoostingRegressor  MLPRegressor  XGBRegressor  LGBMRegressor  \n",
       "cv1                   0.168897    547.072868      0.169990       0.141545  \n",
       "cv2                   0.171831    301.672924      0.171826       0.145501  \n",
       "cv3                   0.170921    387.930132      0.172115       0.143887  \n",
       "cv4                   0.169083    611.987152      0.169635       0.142497  \n",
       "cv5                   0.174072    272.175556      0.172824       0.144852  "
      ]
     },
     "execution_count": 81,
     "metadata": {},
     "output_type": "execute_result"
    }
   ],
   "source": [
    "result = pd.DataFrame(result)\n",
    "result.index = ['cv' + str(x) for x in range(1, 6)]\n",
    "result"
   ]
  },
  {
   "cell_type": "markdown",
   "metadata": {},
   "source": [
    "### 模型调参¶\n",
    "在此我们介绍了三种常用的调参方法如下：\n",
    "\n",
    "* 贪心算法 https://www.jianshu.com/p/ab89df9759c8\n",
    "* 网格调参 https://blog.csdn.net/weixin_43172660/article/details/83032029\n",
    "* 贝叶斯调参 https://blog.csdn.net/linxid/article/details/81189154"
   ]
  },
  {
   "cell_type": "code",
   "execution_count": null,
   "metadata": {},
   "outputs": [],
   "source": []
  },
  {
   "cell_type": "code",
   "execution_count": null,
   "metadata": {},
   "outputs": [],
   "source": []
  },
  {
   "cell_type": "code",
   "execution_count": null,
   "metadata": {},
   "outputs": [],
   "source": []
  },
  {
   "cell_type": "code",
   "execution_count": null,
   "metadata": {},
   "outputs": [],
   "source": []
  },
  {
   "cell_type": "code",
   "execution_count": null,
   "metadata": {},
   "outputs": [],
   "source": []
  },
  {
   "cell_type": "code",
   "execution_count": null,
   "metadata": {},
   "outputs": [],
   "source": []
  },
  {
   "cell_type": "code",
   "execution_count": null,
   "metadata": {},
   "outputs": [],
   "source": []
  },
  {
   "cell_type": "code",
   "execution_count": null,
   "metadata": {},
   "outputs": [],
   "source": []
  },
  {
   "cell_type": "code",
   "execution_count": null,
   "metadata": {},
   "outputs": [],
   "source": []
  },
  {
   "cell_type": "code",
   "execution_count": null,
   "metadata": {},
   "outputs": [],
   "source": []
  },
  {
   "cell_type": "code",
   "execution_count": null,
   "metadata": {},
   "outputs": [],
   "source": []
  },
  {
   "cell_type": "code",
   "execution_count": null,
   "metadata": {},
   "outputs": [],
   "source": []
  },
  {
   "cell_type": "code",
   "execution_count": null,
   "metadata": {},
   "outputs": [],
   "source": []
  },
  {
   "cell_type": "code",
   "execution_count": null,
   "metadata": {},
   "outputs": [],
   "source": []
  },
  {
   "cell_type": "code",
   "execution_count": null,
   "metadata": {},
   "outputs": [],
   "source": []
  }
 ],
 "metadata": {
  "kernelspec": {
   "display_name": "Python 3",
   "language": "python",
   "name": "python3"
  },
  "language_info": {
   "codemirror_mode": {
    "name": "ipython",
    "version": 3
   },
   "file_extension": ".py",
   "mimetype": "text/x-python",
   "name": "python",
   "nbconvert_exporter": "python",
   "pygments_lexer": "ipython3",
   "version": "3.7.6"
  }
 },
 "nbformat": 4,
 "nbformat_minor": 4
}
